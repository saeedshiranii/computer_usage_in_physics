{
 "cells": [
  {
   "cell_type": "code",
   "execution_count": null,
   "id": "d91ba38f",
   "metadata": {},
   "outputs": [],
   "source": [
    "#971813207 \n",
    "#سعید شیرانی"
   ]
  },
  {
   "cell_type": "code",
   "execution_count": 4,
   "id": "6a713712",
   "metadata": {},
   "outputs": [],
   "source": [
    "from math import sqrt\n",
    "\n",
    "G = 10.0"
   ]
  },
  {
   "cell_type": "markdown",
   "id": "1558dbee",
   "metadata": {},
   "source": [
    "هدف این برنامه برای محاسبه ی زمان باقی مانده و ارتفاع باقی مانده ایست که ذره در سقوط آزاد باید طی کند"
   ]
  },
  {
   "cell_type": "markdown",
   "id": "0d838c0c",
   "metadata": {},
   "source": [
    "مقادیر اولیه ی ارتفاع در قبل از سقوط ذره و زمان رهگیری ذره دو مقدار مستقل و دلخواه هستند "
   ]
  },
  {
   "cell_type": "code",
   "execution_count": 5,
   "id": "b1ed35cc",
   "metadata": {},
   "outputs": [],
   "source": [
    "\"\"\"\"This function created for get a physical value for time \n",
    "and if user's time entry were not good function get_value will ask user one more time to give a real nuumber\n",
    "After that it should calculate remaining time of Free Fall \"\"\"\n",
    "\n",
    "def get_value(physical_value):\n",
    "    \n",
    "    guarantor = True\n",
    "    while(guarantor):\n",
    "        entery_time = float(input(\"Enter the time interval : \"))\n",
    "\n",
    "        if entery_time > physical_value:\n",
    "            print(F\"your entry time is bigger than physical value! try with a number lower than {physical_value}\")\n",
    "\n",
    "        else:\n",
    "            return guarantor\n"
   ]
  },
  {
   "cell_type": "markdown",
   "id": "99e28c0f",
   "metadata": {},
   "source": [
    "$ y = (gt^2) / 2 + v_0 t + y_0 $"
   ]
  },
  {
   "cell_type": "markdown",
   "id": "43f184bf",
   "metadata": {},
   "source": [
    "در فرمول بالا سرعت اولیه و مکان اولیه صفر است\n",
    "زمان باقی مانده از فرمول بالا به فرم زیر بدست می آید:"
   ]
  },
  {
   "cell_type": "markdown",
   "id": "05bbf0a4",
   "metadata": {},
   "source": [
    "$ t = \\sqrt{2y/g}$"
   ]
  },
  {
   "cell_type": "code",
   "execution_count": null,
   "id": "bf0e7569",
   "metadata": {},
   "outputs": [],
   "source": [
    "\"\"\" This function will get a value which is given by user \n",
    "It will calculate remaining time and remaining distance movement\"\"\"\n",
    "\n",
    "\n",
    "def calculator(height:float):\n",
    "\n",
    "    total_time = float(sqrt((2*height)/G))\n",
    "    entry_time = get_value(total_time)\n",
    "    \n",
    "    remaining_distance = 0.5*height*entry_time**2\n",
    "    remaining_time = total_time - entry_time\n",
    "    \n",
    "    return [remaining_distance,remaining_time]\n",
    "\n",
    "    \n"
   ]
  },
  {
   "cell_type": "markdown",
   "id": "821a8210",
   "metadata": {},
   "source": [
    "حال با کمک دو تابع نوشته شده و ماژول مث ما مقادیر کاربر را دریافت و خواسته شده را محاسبه میکنیم"
   ]
  },
  {
   "cell_type": "code",
   "execution_count": null,
   "id": "3ce0d5fe",
   "metadata": {},
   "outputs": [],
   "source": [
    "\"\"\" this part oblivious.Enjoy your coffee :)) \"\"\"\n",
    "entry_height= float(input(\"Enter the height of the tower : \"))\n",
    "result = calculator(height=entry_height)\n",
    "\n",
    "print(F\"remaining time to touch the ground : {round(result[1], 4)} (s)\")\n",
    "print(F\"remaining distance to touch the ground : {result[0]} (m)\")\n"
   ]
  },
  {
   "cell_type": "code",
   "execution_count": null,
   "id": "7501ee06",
   "metadata": {},
   "outputs": [],
   "source": []
  }
 ],
 "metadata": {
  "kernelspec": {
   "display_name": "Python 3 (ipykernel)",
   "language": "python",
   "name": "python3"
  },
  "language_info": {
   "codemirror_mode": {
    "name": "ipython",
    "version": 3
   },
   "file_extension": ".py",
   "mimetype": "text/x-python",
   "name": "python",
   "nbconvert_exporter": "python",
   "pygments_lexer": "ipython3",
   "version": "3.10.2"
  }
 },
 "nbformat": 4,
 "nbformat_minor": 5
}
