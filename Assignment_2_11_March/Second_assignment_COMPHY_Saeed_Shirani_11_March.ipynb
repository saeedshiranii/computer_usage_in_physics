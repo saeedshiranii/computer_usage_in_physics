{
 "cells": [
  {
   "cell_type": "markdown",
   "id": "c1249382",
   "metadata": {},
   "source": []
  },
  {
   "cell_type": "markdown",
   "id": "b1ddd5b0",
   "metadata": {},
   "source": [
    "<h1> We want to check out the following relation of the Pauli matrix:<h1>\n",
    "    $\\sigma^\\dagger_p.\\sigma_p = \\begin{pmatrix}\n",
    "                                   1 & 0 \\\\\n",
    "                                   0 & 1 \n",
    "                                   \\end{pmatrix} = I_2$\n",
    "    \n",
    "    \n",
    "we want to see the eqution in above is valid or not?\n",
    "\n"
   ]
  },
  {
   "cell_type": "markdown",
   "id": "993a1b74",
   "metadata": {},
   "source": [
    "<h3>I should say 'p' can change by respect for: x, y, z <h3>\n",
    "<h3>and in the below we have pauli matrixes:<h3>\n",
    "    $\\sigma_x = \\begin{pmatrix}\n",
    "                                   0 & 1 \\\\\n",
    "                                   1 & 0 \n",
    "                                   \\end{pmatrix}$, \n",
    "    $\\sigma_y = \\begin{pmatrix}\n",
    "                                   0 & -i \\\\\n",
    "                                   i & 0 \n",
    "                                   \\end{pmatrix}$, \n",
    "    $\\sigma_z = \\begin{pmatrix}\n",
    "                                   1 & 0 \\\\\n",
    "                                   0 & -1 \n",
    "                                   \\end{pmatrix}$\n",
    "    \n",
    "\n",
    "<span style=\"background-color: #FFFF00\">Let's start:</span>"
   ]
  },
  {
   "cell_type": "code",
   "execution_count": 2,
   "id": "da04c8c0",
   "metadata": {},
   "outputs": [],
   "source": [
    "from numpy import array, inner, dot, array_equal\n",
    "I = complex(0, -1)\n",
    "TWO_D_UNIT_MATRIX = array([[1, 0],\n",
    "                           [0, 1]])\n",
    "\n",
    "# here we have 𝜎𝑥,𝜎𝑦,𝜎𝑧 matrix, pauli matrix\n",
    "a_x = array ([[0, 1], [1, 0]])\n",
    "a_y = array ([[0, -I], [I, 0]])\n",
    "a_z = array ([[1, 0], [0, -1]])\n",
    "\n",
    "pauli_mats = [a_x, a_y, a_z]"
   ]
  },
  {
   "cell_type": "code",
   "execution_count": 3,
   "id": "c236cc9f",
   "metadata": {},
   "outputs": [],
   "source": [
    "# Here we define a program for give us a transpose of a matrix \n",
    "def transposer(mat:array):\n",
    "    \n",
    "    dagger_mat = mat.conj().T\n",
    "    return dagger_mat\n",
    "    "
   ]
  },
  {
   "cell_type": "code",
   "execution_count": 4,
   "id": "aa31ed6e",
   "metadata": {},
   "outputs": [],
   "source": [
    "# now we dot multipie dagger of a matrix in itself \n",
    "# after that we will see our product is equal to TWO_D_UNIT_MATRIX or not\n",
    "\n",
    "def was_pauli_right(daggers:array, mat:array):\n",
    "    \n",
    "    result = []\n",
    "    for c in range(3):\n",
    "        dot_matrix = (dot(daggers[c], mat[c]))\n",
    "        test = array_equal(dot_matrix, TWO_D_UNIT_MATRIX, equal_nan=False)\n",
    "        result.append(test)\n",
    "        \n",
    "    return result"
   ]
  },
  {
   "cell_type": "code",
   "execution_count": 5,
   "id": "a5846588",
   "metadata": {},
   "outputs": [],
   "source": [
    "# here we make dagger of 𝜎𝑥,𝜎𝑦,𝜎𝑧 matrix\n",
    "dagger_list = []\n",
    "for single_mat in pauli_mats:\n",
    "    dagger_list.append(transposer(single_mat))"
   ]
  },
  {
   "cell_type": "code",
   "execution_count": 6,
   "id": "2dfd9dd6",
   "metadata": {},
   "outputs": [
    {
     "name": "stdout",
     "output_type": "stream",
     "text": [
      "The equation is correct.\n",
      "Sir pauli was right,he is a Legend\n"
     ]
    }
   ],
   "source": [
    "# now we check main relation by using was_pauli_right function\n",
    "\n",
    "final = was_pauli_right(dagger_list, pauli_mats)\n",
    "if False in final:\n",
    "    print(\"No, Sir Pauli made a bad mistke,Because the equation is not correct.\")\n",
    "else:\n",
    "    print(\"The equation is correct.\")\n",
    "    print(\"Sir pauli was right,he is a Legend\")"
   ]
  },
  {
   "cell_type": "code",
   "execution_count": null,
   "id": "65226ece",
   "metadata": {},
   "outputs": [],
   "source": [
    "\n"
   ]
  },
  {
   "cell_type": "code",
   "execution_count": null,
   "id": "46c8b216",
   "metadata": {},
   "outputs": [],
   "source": []
  },
  {
   "cell_type": "code",
   "execution_count": null,
   "id": "4553873b",
   "metadata": {},
   "outputs": [],
   "source": []
  }
 ],
 "metadata": {
  "kernelspec": {
   "display_name": "Python 3 (ipykernel)",
   "language": "python",
   "name": "python3"
  },
  "language_info": {
   "codemirror_mode": {
    "name": "ipython",
    "version": 3
   },
   "file_extension": ".py",
   "mimetype": "text/x-python",
   "name": "python",
   "nbconvert_exporter": "python",
   "pygments_lexer": "ipython3",
   "version": "3.10.2"
  }
 },
 "nbformat": 4,
 "nbformat_minor": 5
}
