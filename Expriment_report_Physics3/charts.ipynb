{
 "cells": [
  {
   "cell_type": "code",
   "execution_count": null,
   "metadata": {},
   "outputs": [],
   "source": [
    "import numpy\n",
    "import matplotlib"
   ]
  },
  {
   "cell_type": "code",
   "execution_count": null,
   "metadata": {},
   "outputs": [],
   "source": [
    "import matplotlib.pyplot as plt \n",
    " # x axis values \n",
    "f_x_axis = [197, 251, 280, 313, 362, 427] \n",
    "devide_f_x_axis = [0.0051, 0.0040, 0.0036, 0.0032, 0.0028, 0.0023]\n",
    "# corresponding y axis values \n",
    "l1_y_axis = [28.0, 15.8, 14.1, 12.3 10.7, 8.8]\n",
    "l2_y_axis = [56.0, 33.0, 29.0, 26.7, 22.5, 18.9]\n",
    "\n",
    "\n",
    "# plotting the points  \n",
    "plt.plot(f_x_axis, l1_y_axis) \n",
    "    \n",
    "# naming the x axis \n",
    "plt.xlabel('x - axis') \n",
    "# naming the y axis \n",
    "plt.ylabel('y - axis') \n",
    "    \n",
    "# giving a title to my graph \n",
    "plt.title('My first graph!') \n",
    "    \n",
    "# function to show the plot \n",
    "plt.show() "
   ]
  }
 ],
 "metadata": {
  "kernelspec": {
   "display_name": "Python 3.10.7 64-bit",
   "language": "python",
   "name": "python3"
  },
  "language_info": {
   "codemirror_mode": {
    "name": "ipython",
    "version": 3
   },
   "file_extension": ".py",
   "mimetype": "text/x-python",
   "name": "python",
   "nbconvert_exporter": "python",
   "pygments_lexer": "ipython3",
   "version": "3.10.7"
  },
  "orig_nbformat": 4,
  "vscode": {
   "interpreter": {
    "hash": "791f98342b56e38df80a33ebf4dbc509b18f9eb043fdf564bc4146bb421073d5"
   }
  }
 },
 "nbformat": 4,
 "nbformat_minor": 2
}
